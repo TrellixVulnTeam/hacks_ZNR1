{
 "cells": [
  {
   "cell_type": "markdown",
   "id": "663b1740",
   "metadata": {},
   "source": [
    "# Load MNIST data set"
   ]
  },
  {
   "cell_type": "code",
   "execution_count": 1,
   "id": "2b6620f9",
   "metadata": {},
   "outputs": [
    {
     "data": {
      "text/plain": [
       "dict_keys(['data', 'target', 'frame', 'categories', 'feature_names', 'target_names', 'DESCR', 'details', 'url'])"
      ]
     },
     "execution_count": 1,
     "metadata": {},
     "output_type": "execute_result"
    }
   ],
   "source": [
    "from sklearn.datasets import fetch_openml\n",
    "\n",
    "mnist = fetch_openml(\"mnist_784\", version=1, as_frame=False)\n",
    "mnist.keys()"
   ]
  },
  {
   "cell_type": "code",
   "execution_count": 2,
   "id": "5f054288",
   "metadata": {},
   "outputs": [
    {
     "name": "stdout",
     "output_type": "stream",
     "text": [
      "(70000, 784)\n"
     ]
    }
   ],
   "source": [
    "import numpy as np\n",
    "\n",
    "X, y = mnist[\"data\"], mnist[\"target\"]\n",
    "y = y.astype(np.uint8)\n",
    "\n",
    "print(X.shape)"
   ]
  },
  {
   "cell_type": "code",
   "execution_count": 3,
   "id": "b7f429d1",
   "metadata": {},
   "outputs": [
    {
     "data": {
      "image/png": "[encoded data removed]",
      "text/plain": [
       "<Figure size 432x288 with 1 Axes>"
      ]
     },
     "metadata": {
      "needs_background": "light"
     },
     "output_type": "display_data"
    }
   ],
   "source": [
    "import matplotlib as mpl\n",
    "import matplotlib.pyplot as plt\n",
    "\n",
    "some_digit = X[0]\n",
    "some_digit_image = some_digit.reshape(28, 28)\n",
    "\n",
    "plt.imshow(some_digit_image, cmap=\"binary\")\n",
    "plt.axis(\"off\")\n",
    "plt.show()"
   ]
  },
  {
   "cell_type": "code",
   "execution_count": 4,
   "id": "e78c7343",
   "metadata": {},
   "outputs": [],
   "source": [
    "X_train, X_test, y_train, y_test = X[:6000], X[6000:], y[:6000], y[6000:]"
   ]
  },
  {
   "cell_type": "markdown",
   "id": "dad3968d",
   "metadata": {},
   "source": [
    "# Training a binary classifier\n",
    "\n",
    "Train a classifier to train by two classes: 5 and not 5."
   ]
  },
  {
   "cell_type": "code",
   "execution_count": 5,
   "id": "809fe524",
   "metadata": {},
   "outputs": [],
   "source": [
    "y_train_5 = (y_train == 5)\n",
    "y_test_5 = (y_test == 5)"
   ]
  },
  {
   "cell_type": "code",
   "execution_count": 6,
   "id": "b411e274",
   "metadata": {},
   "outputs": [
    {
     "data": {
      "text/plain": [
       "array([0.962 , 0.956 , 0.9665])"
      ]
     },
     "execution_count": 6,
     "metadata": {},
     "output_type": "execute_result"
    }
   ],
   "source": [
    "from sklearn.linear_model import SGDClassifier\n",
    "from sklearn.model_selection import cross_val_score\n",
    "\n",
    "sgd_clf = SGDClassifier(random_state=42)\n",
    "cross_val_score(sgd_clf, X_train, y_train_5, cv=3, scoring=\"accuracy\")"
   ]
  },
  {
   "cell_type": "code",
   "execution_count": 7,
   "id": "836f618f",
   "metadata": {},
   "outputs": [
    {
     "data": {
      "text/plain": [
       "array([0.91 , 0.915, 0.918])"
      ]
     },
     "execution_count": 7,
     "metadata": {},
     "output_type": "execute_result"
    }
   ],
   "source": [
    "from sklearn.base import BaseEstimator\n",
    "\n",
    "class Never5Classifier(BaseEstimator):\n",
    "    def fit(self, X, y=None):\n",
    "        return self\n",
    "    def predict(self, X):\n",
    "        return np.zeros((len(X), 1), dtype=bool)\n",
    "    \n",
    "    \n",
    "never_5_clf = Never5Classifier()\n",
    "cross_val_score(never_5_clf, X_train, y_train_5, cv=3, scoring=\"accuracy\")"
   ]
  },
  {
   "cell_type": "markdown",
   "id": "49cd366c",
   "metadata": {},
   "source": [
    "Above example shows why accuracy is not the best measure for a classifier, especially w/ a skewed dataset."
   ]
  },
  {
   "cell_type": "markdown",
   "id": "e4cefa60",
   "metadata": {},
   "source": [
    "# Confusion Matrix"
   ]
  },
  {
   "cell_type": "code",
   "execution_count": 8,
   "id": "bade1c5c",
   "metadata": {},
   "outputs": [],
   "source": [
    "from sklearn.model_selection import cross_val_predict\n",
    "\n",
    "y_train_pred = cross_val_predict(sgd_clf, X_train, y_train_5, cv=3)"
   ]
  },
  {
   "cell_type": "code",
   "execution_count": 9,
   "id": "98748e59",
   "metadata": {},
   "outputs": [
    {
     "data": {
      "text/plain": [
       "array([[5375,  111],\n",
       "       [ 120,  394]])"
      ]
     },
     "execution_count": 9,
     "metadata": {},
     "output_type": "execute_result"
    }
   ],
   "source": [
    "from sklearn.metrics import confusion_matrix\n",
    "\n",
    "confusion_matrix(y_train_5, y_train_pred)"
   ]
  },
  {
   "cell_type": "code",
   "execution_count": 10,
   "id": "455ea114",
   "metadata": {},
   "outputs": [
    {
     "name": "stdout",
     "output_type": "stream",
     "text": [
      "0.7801980198019802\n",
      "0.7665369649805448\n",
      "0.7733071638861628\n"
     ]
    }
   ],
   "source": [
    "from sklearn.metrics import f1_score, precision_score, recall_score\n",
    "\n",
    "print(precision_score(y_train_5, y_train_pred))\n",
    "print(recall_score(y_train_5, y_train_pred))\n",
    "print(f1_score(y_train_5, y_train_pred))  # F1 is a combo measure of precision and recall"
   ]
  },
  {
   "cell_type": "code",
   "execution_count": 11,
   "id": "bfef2008",
   "metadata": {},
   "outputs": [],
   "source": [
    "from sklearn.metrics import roc_curve\n",
    "\n",
    "# Use `decision_function` so that we can get a sense of the precision/recall tradeoff\n",
    "# Default value for `method` is `predict`.\n",
    "y_scores = cross_val_predict(sgd_clf, X_train, y_train_5, cv=3, method=\"decision_function\")\n",
    "fpr, tpr, thresholds = roc_curve(y_train_5, y_scores)"
   ]
  },
  {
   "cell_type": "code",
   "execution_count": 12,
   "id": "6487a669",
   "metadata": {},
   "outputs": [
    {
     "data": {
      "image/png": "[encoded data removed]",
      "text/plain": [
       "<Figure size 432x288 with 1 Axes>"
      ]
     },
     "metadata": {
      "needs_background": "light"
     },
     "output_type": "display_data"
    }
   ],
   "source": [
    "def plot_roc_curve(fpr, tpr, label=None):\n",
    "    # The farther up and to the left, the better\n",
    "    plt.plot(fpr, tpr, linewidth=2, label=label)\n",
    "    plt.plot([0, 1], [0, 1], 'k--')\n",
    "    \n",
    "plot_roc_curve(fpr, tpr)\n",
    "plt.show()"
   ]
  },
  {
   "cell_type": "code",
   "execution_count": 13,
   "id": "ee2e7413",
   "metadata": {},
   "outputs": [
    {
     "data": {
      "text/plain": [
       "0.9641599203348885"
      ]
     },
     "execution_count": 13,
     "metadata": {},
     "output_type": "execute_result"
    }
   ],
   "source": [
    "from sklearn.metrics import roc_auc_score\n",
    "\n",
    "roc_auc_score(y_train_5, y_scores)  # 1 is perfect, .5 is what random achieves"
   ]
  },
  {
   "cell_type": "code",
   "execution_count": 14,
   "id": "c007ca96",
   "metadata": {},
   "outputs": [],
   "source": [
    "from sklearn.ensemble import RandomForestClassifier\n",
    "\n",
    "forest_clf = RandomForestClassifier(random_state=42)\n",
    "y_probas_forest = cross_val_predict(forest_clf, X_train, y_train_5, cv=3, method=\"predict_proba\")"
   ]
  },
  {
   "cell_type": "code",
   "execution_count": 15,
   "id": "6a38a8e6",
   "metadata": {},
   "outputs": [],
   "source": [
    "y_scores_forest = y_probas_forest[:, 1]  # proba of a positive class\n",
    "fpr_forest, tpr_forest, thresholds_forest = roc_curve(y_train_5, y_scores_forest)"
   ]
  },
  {
   "cell_type": "code",
   "execution_count": 16,
   "id": "73a62d04",
   "metadata": {},
   "outputs": [
    {
     "data": {
      "image/png": "[encoded data removed]",
      "text/plain": [
       "<Figure size 432x288 with 1 Axes>"
      ]
     },
     "metadata": {
      "needs_background": "light"
     },
     "output_type": "display_data"
    }
   ],
   "source": [
    "plot_roc_curve(fpr_forest, tpr_forest)"
   ]
  },
  {
   "cell_type": "code",
   "execution_count": 17,
   "id": "6429ee5e",
   "metadata": {},
   "outputs": [
    {
     "data": {
      "text/plain": [
       "0.9936162229715256"
      ]
     },
     "execution_count": 17,
     "metadata": {},
     "output_type": "execute_result"
    }
   ],
   "source": [
    "roc_auc_score(y_train_5, y_scores_forest)"
   ]
  },
  {
   "cell_type": "markdown",
   "id": "62b35bbe",
   "metadata": {},
   "source": [
    "# Multiclass classification"
   ]
  },
  {
   "cell_type": "code",
   "execution_count": 18,
   "id": "1b0cc88f",
   "metadata": {},
   "outputs": [
    {
     "data": {
      "text/plain": [
       "SVC()"
      ]
     },
     "execution_count": 18,
     "metadata": {},
     "output_type": "execute_result"
    }
   ],
   "source": [
    "from sklearn.svm import SVC\n",
    "\n",
    "# Scikit is able to automatically support mutli-class for SVM, even though support-vector machines\n",
    "# are strictly binary classifiers. Does one-versus-the-rest (or one-versus-one) under the hood\n",
    "\n",
    "svm_clf = SVC()\n",
    "svm_clf.fit(X_train, y_train)"
   ]
  },
  {
   "cell_type": "code",
   "execution_count": 20,
   "id": "4d529f01",
   "metadata": {},
   "outputs": [
    {
     "data": {
      "text/plain": [
       "array([5], dtype=uint8)"
      ]
     },
     "execution_count": 20,
     "metadata": {},
     "output_type": "execute_result"
    }
   ],
   "source": [
    "svm_clf.predict([some_digit])"
   ]
  },
  {
   "cell_type": "code",
   "execution_count": 21,
   "id": "791e14fd",
   "metadata": {},
   "outputs": [
    {
     "data": {
      "text/plain": [
       "array([0.8565, 0.8715, 0.8635])"
      ]
     },
     "execution_count": 21,
     "metadata": {},
     "output_type": "execute_result"
    }
   ],
   "source": [
    "sgd_clf = SGDClassifier(random_state=42)\n",
    "cross_val_score(sgd_clf, X_train, y_train, cv=3, scoring=\"accuracy\")"
   ]
  },
  {
   "cell_type": "code",
   "execution_count": 25,
   "id": "020081cb",
   "metadata": {},
   "outputs": [
    {
     "data": {
      "text/plain": [
       "array([0.929 , 0.9415, 0.9275])"
      ]
     },
     "execution_count": 25,
     "metadata": {},
     "output_type": "execute_result"
    }
   ],
   "source": [
    "from sklearn.ensemble import RandomForestClassifier\n",
    "\n",
    "rf_clf = RandomForestClassifier(random_state=3)\n",
    "cross_val_score(rf_clf, X_train, y_train, cv=3, scoring=\"accuracy\")"
   ]
  },
  {
   "cell_type": "code",
   "execution_count": 26,
   "id": "394ff862",
   "metadata": {},
   "outputs": [
    {
     "data": {
      "text/plain": [
       "GridSearchCV(cv=5, estimator=RandomForestClassifier(random_state=3),\n",
       "             param_grid=[{'max_features': [2, 'auto', 'log2'],\n",
       "                          'n_estimators': [3, 10, 100, 200]}],\n",
       "             return_train_score=True, scoring='accuracy')"
      ]
     },
     "execution_count": 26,
     "metadata": {},
     "output_type": "execute_result"
    }
   ],
   "source": [
    "param_grid = [\n",
    "    {\"n_estimators\": [3, 10, 100, 200], \"max_features\": [2, \"auto\", \"log2\"]}\n",
    "]\n",
    "\n",
    "from sklearn.model_selection import GridSearchCV\n",
    "\n",
    "# Experiment w/ different hyperparameters using a GridSearchCV\n",
    "grid_search = GridSearchCV(\n",
    "    rf_clf, param_grid, cv=5, scoring=\"accuracy\", return_train_score=True\n",
    ")\n",
    "\n",
    "grid_search.fit(X_train, y_train)"
   ]
  },
  {
   "cell_type": "code",
   "execution_count": 27,
   "id": "4ee246cd",
   "metadata": {},
   "outputs": [
    {
     "data": {
      "text/plain": [
       "{'max_features': 'log2', 'n_estimators': 200}"
      ]
     },
     "execution_count": 27,
     "metadata": {},
     "output_type": "execute_result"
    }
   ],
   "source": [
    "grid_search.best_params_"
   ]
  },
  {
   "cell_type": "code",
   "execution_count": 28,
   "id": "3808cb7d",
   "metadata": {},
   "outputs": [
    {
     "data": {
      "text/plain": [
       "{'mean_fit_time': array([0.04205933, 0.08716602, 0.62076483, 1.1569067 , 0.08808069,\n",
       "        0.23543973, 1.99797673, 3.72351198, 0.0504251 , 0.11748028,\n",
       "        0.97018361, 1.98158083]),\n",
       " 'std_fit_time': array([0.00121222, 0.00205189, 0.01383017, 0.01714957, 0.00185   ,\n",
       "        0.00469505, 0.04547073, 0.05017589, 0.00150589, 0.00078399,\n",
       "        0.00208447, 0.07734727]),\n",
       " 'mean_score_time': array([0.00471358, 0.00750184, 0.04855061, 0.09031258, 0.003825  ,\n",
       "        0.00654206, 0.03333941, 0.05830131, 0.00395899, 0.00648289,\n",
       "        0.03698115, 0.07737317]),\n",
       " 'std_score_time': array([0.00025729, 0.00030497, 0.00163455, 0.00187385, 0.00017603,\n",
       "        0.00040002, 0.00166224, 0.0004793 , 0.00025638, 0.00016857,\n",
       "        0.00101711, 0.00675502]),\n",
       " 'param_max_features': masked_array(data=[2, 2, 2, 2, 'auto', 'auto', 'auto', 'auto', 'log2',\n",
       "                    'log2', 'log2', 'log2'],\n",
       "              mask=[False, False, False, False, False, False, False, False,\n",
       "                    False, False, False, False],\n",
       "        fill_value='?',\n",
       "             dtype=object),\n",
       " 'param_n_estimators': masked_array(data=[3, 10, 100, 200, 3, 10, 100, 200, 3, 10, 100, 200],\n",
       "              mask=[False, False, False, False, False, False, False, False,\n",
       "                    False, False, False, False],\n",
       "        fill_value='?',\n",
       "             dtype=object),\n",
       " 'params': [{'max_features': 2, 'n_estimators': 3},\n",
       "  {'max_features': 2, 'n_estimators': 10},\n",
       "  {'max_features': 2, 'n_estimators': 100},\n",
       "  {'max_features': 2, 'n_estimators': 200},\n",
       "  {'max_features': 'auto', 'n_estimators': 3},\n",
       "  {'max_features': 'auto', 'n_estimators': 10},\n",
       "  {'max_features': 'auto', 'n_estimators': 100},\n",
       "  {'max_features': 'auto', 'n_estimators': 200},\n",
       "  {'max_features': 'log2', 'n_estimators': 3},\n",
       "  {'max_features': 'log2', 'n_estimators': 10},\n",
       "  {'max_features': 'log2', 'n_estimators': 100},\n",
       "  {'max_features': 'log2', 'n_estimators': 200}],\n",
       " 'split0_test_score': array([0.67916667, 0.835     , 0.91333333, 0.91416667, 0.76166667,\n",
       "        0.8775    , 0.93333333, 0.93333333, 0.70333333, 0.86916667,\n",
       "        0.93166667, 0.93583333]),\n",
       " 'split1_test_score': array([0.68583333, 0.84      , 0.93916667, 0.95083333, 0.7825    ,\n",
       "        0.89833333, 0.94916667, 0.95      , 0.75416667, 0.88      ,\n",
       "        0.94583333, 0.95083333]),\n",
       " 'split2_test_score': array([0.64666667, 0.8325    , 0.93      , 0.93833333, 0.7625    ,\n",
       "        0.89833333, 0.93833333, 0.94      , 0.72416667, 0.8775    ,\n",
       "        0.94166667, 0.9425    ]),\n",
       " 'split3_test_score': array([0.65916667, 0.81916667, 0.93166667, 0.93416667, 0.74583333,\n",
       "        0.89083333, 0.93666667, 0.9375    , 0.72166667, 0.8675    ,\n",
       "        0.93833333, 0.9425    ]),\n",
       " 'split4_test_score': array([0.655     , 0.84      , 0.9275    , 0.92583333, 0.79416667,\n",
       "        0.9       , 0.935     , 0.93833333, 0.74583333, 0.875     ,\n",
       "        0.94      , 0.94833333]),\n",
       " 'mean_test_score': array([0.66516667, 0.83333333, 0.92833333, 0.93266667, 0.76933333,\n",
       "        0.893     , 0.9385    , 0.93983333, 0.72983333, 0.87383333,\n",
       "        0.9395    , 0.944     ]),\n",
       " 'std_test_score': array([0.0148642 , 0.00765579, 0.00844919, 0.01227464, 0.01701633,\n",
       "        0.00837655, 0.00558768, 0.00553775, 0.01816131, 0.00479004,\n",
       "        0.0046428 , 0.00522813]),\n",
       " 'rank_test_score': array([12,  9,  6,  5, 10,  7,  4,  2, 11,  8,  3,  1], dtype=int32),\n",
       " 'split0_train_score': array([0.9475    , 0.99833333, 1.        , 1.        , 0.9675    ,\n",
       "        0.99854167, 1.        , 1.        , 0.95541667, 0.999375  ,\n",
       "        1.        , 1.        ]),\n",
       " 'split1_train_score': array([0.94166667, 0.99770833, 1.        , 1.        , 0.96020833,\n",
       "        0.99895833, 1.        , 1.        , 0.95354167, 0.999375  ,\n",
       "        1.        , 1.        ]),\n",
       " 'split2_train_score': array([0.94520833, 0.99895833, 1.        , 1.        , 0.965     ,\n",
       "        0.99916667, 1.        , 1.        , 0.95645833, 0.99895833,\n",
       "        1.        , 1.        ]),\n",
       " 'split3_train_score': array([0.93979167, 0.99895833, 1.        , 1.        , 0.95958333,\n",
       "        0.99958333, 1.        , 1.        , 0.95166667, 0.99875   ,\n",
       "        1.        , 1.        ]),\n",
       " 'split4_train_score': array([0.94416667, 0.99979167, 1.        , 1.        , 0.96416667,\n",
       "        0.99875   , 1.        , 1.        , 0.9525    , 0.99895833,\n",
       "        1.        , 1.        ]),\n",
       " 'mean_train_score': array([0.94366667, 0.99875   , 1.        , 1.        , 0.96329167,\n",
       "        0.999     , 1.        , 1.        , 0.95391667, 0.99908333,\n",
       "        1.        , 1.        ]),\n",
       " 'std_train_score': array([0.0026958 , 0.00069722, 0.        , 0.        , 0.0029884 ,\n",
       "        0.00035843, 0.        , 0.        , 0.00178438, 0.00025   ,\n",
       "        0.        , 0.        ])}"
      ]
     },
     "execution_count": 28,
     "metadata": {},
     "output_type": "execute_result"
    }
   ],
   "source": [
    "grid_search.cv_results_"
   ]
  },
  {
   "cell_type": "code",
   "execution_count": 32,
   "id": "2de53871",
   "metadata": {},
   "outputs": [
    {
     "data": {
      "text/plain": [
       "0.93921875"
      ]
     },
     "execution_count": 32,
     "metadata": {},
     "output_type": "execute_result"
    }
   ],
   "source": [
    "# Overfit\n",
    "grid_search.best_estimator_.score(X_test, y_test)"
   ]
  }
 ],
 "metadata": {
  "kernelspec": {
   "display_name": "Python 3 (ipykernel)",
   "language": "python",
   "name": "python3"
  },
  "language_info": {
   "codemirror_mode": {
    "name": "ipython",
    "version": 3
   },
   "file_extension": ".py",
   "mimetype": "text/x-python",
   "name": "python",
   "nbconvert_exporter": "python",
   "pygments_lexer": "ipython3",
   "version": "3.8.10"
  }
 },
 "nbformat": 4,
 "nbformat_minor": 5
}
