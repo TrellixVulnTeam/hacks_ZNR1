{
 "cells": [
  {
   "cell_type": "markdown",
   "metadata": {},
   "source": [
    "# Chapter 4"
   ]
  },
  {
   "cell_type": "markdown",
   "metadata": {},
   "source": [
    "Chapter 4 provides an introduction to numpy. Its not useful to save any of the small examples in source control."
   ]
  },
  {
   "cell_type": "markdown",
   "metadata": {},
   "source": [
    "A couple important Jupyter discoveries:\n",
    "\n",
    "- I can use ESC to end command mode, at which point I can navigate with vim like bindings (i.e. j/k to navigate cells, dd to delete cells, etc...)\n",
    "- I can use ENTER to end editing mode, at which point I can navigate individual cells.\n",
    "- I can use SHIFT+ENTER to execute an individual cell.\n",
    "- I can use m in command mode to convert a cell type to markdown."
   ]
  },
  {
   "cell_type": "code",
   "execution_count": 1,
   "metadata": {},
   "outputs": [],
   "source": [
    "import numpy as np"
   ]
  }
 ],
 "metadata": {
  "kernelspec": {
   "display_name": "Python 3",
   "language": "python",
   "name": "python3"
  },
  "language_info": {
   "codemirror_mode": {
    "name": "ipython",
    "version": 3
   },
   "file_extension": ".py",
   "mimetype": "text/x-python",
   "name": "python",
   "nbconvert_exporter": "python",
   "pygments_lexer": "ipython3",
   "version": "3.7.4"
  }
 },
 "nbformat": 4,
 "nbformat_minor": 2
}
